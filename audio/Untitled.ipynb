{
 "cells": [
  {
   "cell_type": "code",
   "execution_count": 2,
   "id": "44ba4787-045f-46aa-9491-f3d58f3eedda",
   "metadata": {},
   "outputs": [],
   "source": [
    "import os\n",
    "from pydub import AudioSegment\n",
    "\n",
    "def split_audio(mp3_file, timestamps):\n",
    "    # 获取脚本所在目录\n",
    "    script_dir = os.path.dirname(os.path.abspath(mp3_file))\n",
    "    \n",
    "    # 加载音频文件\n",
    "    audio = AudioSegment.from_file(mp3_file)\n",
    "\n",
    "    for i, (start, end) in enumerate(timestamps):\n",
    "        # 计算时间戳的毫秒值\n",
    "        start_ms = int(start * 1000)\n",
    "        end_ms = int(end * 1000)\n",
    "        \n",
    "        # 截取片段\n",
    "        segment = audio[start_ms:end_ms]\n",
    "        \n",
    "        # 在脚本目录下保存为新的 MP3 文件\n",
    "        output_path = os.path.join(script_dir, f\"segment_{i+1}.mp3\")\n",
    "        segment.export(output_path, format=\"mp3\")\n",
    "        print(f\"Saved: {output_path}\")"
   ]
  },
  {
   "cell_type": "code",
   "execution_count": 3,
   "id": "1fb0e52d-be66-4a9a-81ef-a79a0ae72cb2",
   "metadata": {},
   "outputs": [
    {
     "name": "stdout",
     "output_type": "stream",
     "text": [
      "Saved: /Users/xiangyu/repos/quicknotes/audio/downloads/segment_1.mp3\n",
      "Saved: /Users/xiangyu/repos/quicknotes/audio/downloads/segment_2.mp3\n",
      "Saved: /Users/xiangyu/repos/quicknotes/audio/downloads/segment_3.mp3\n",
      "Saved: /Users/xiangyu/repos/quicknotes/audio/downloads/segment_4.mp3\n"
     ]
    }
   ],
   "source": [
    "timestamps = [(4, 19.8), (20, 31), (31, 44), (44, 61)]\n",
    "split_audio(\"./downloads/PnBMdJ5KeHk.mp3\", timestamps)"
   ]
  },
  {
   "cell_type": "code",
   "execution_count": null,
   "id": "bc372f30-97c6-4d4d-984f-f436fc8e9436",
   "metadata": {},
   "outputs": [],
   "source": []
  }
 ],
 "metadata": {
  "kernelspec": {
   "display_name": "Python 3 (ipykernel)",
   "language": "python",
   "name": "python3"
  },
  "language_info": {
   "codemirror_mode": {
    "name": "ipython",
    "version": 3
   },
   "file_extension": ".py",
   "mimetype": "text/x-python",
   "name": "python",
   "nbconvert_exporter": "python",
   "pygments_lexer": "ipython3",
   "version": "3.12.7"
  }
 },
 "nbformat": 4,
 "nbformat_minor": 5
}
