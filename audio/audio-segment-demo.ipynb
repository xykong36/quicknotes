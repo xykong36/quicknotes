{
 "cells": [
  {
   "cell_type": "code",
   "execution_count": 7,
   "id": "44ba4787-045f-46aa-9491-f3d58f3eedda",
   "metadata": {},
   "outputs": [],
   "source": [
    "from pydub import AudioSegment\n",
    "import os\n",
    "\n",
    "def split_audio(mp3_file, timestamps, output_dir=None):\n",
    "    \"\"\"\n",
    "    Split an MP3 file based on timestamps.\n",
    "    \n",
    "    Parameters:\n",
    "    mp3_file (str): Path to input MP3 file\n",
    "    timestamps (list): List of tuples containing (start_time, end_time) in seconds\n",
    "    output_dir (str): Optional directory to save split files. If None, uses same directory as input file\n",
    "    \"\"\"\n",
    "    # Get the directory and filename without extension\n",
    "    base_dir = output_dir if output_dir else os.path.dirname(os.path.abspath(mp3_file))\n",
    "    base_name = os.path.splitext(os.path.basename(mp3_file))[0]\n",
    "    \n",
    "    # Create output directory if it doesn't exist\n",
    "    if not os.path.exists(base_dir):\n",
    "        os.makedirs(base_dir)\n",
    "    \n",
    "    # Load the audio file\n",
    "    try:\n",
    "        audio = AudioSegment.from_file(mp3_file)\n",
    "    except Exception as e:\n",
    "        print(f\"Error loading audio file: {e}\")\n",
    "        return\n",
    "    \n",
    "    # Process each timestamp and create segments\n",
    "    for i, (start, end) in enumerate(timestamps):\n",
    "        try:\n",
    "            # Convert timestamps to milliseconds\n",
    "            start_ms = int(start * 1000)\n",
    "            end_ms = int(end * 1000)\n",
    "            \n",
    "            # Extract the segment\n",
    "            segment = audio[start_ms:end_ms]\n",
    "            \n",
    "            # Generate output filename with format: originalname-start-end.mp3\n",
    "            output_filename = f\"{base_name}-{start}-{end}.mp3\"\n",
    "            output_path = os.path.join(base_dir, output_filename)\n",
    "            \n",
    "            # Export the segment\n",
    "            segment.export(output_path, format=\"mp3\")\n",
    "            print(f\"Created segment: {output_path}\")\n",
    "            \n",
    "        except Exception as e:\n",
    "            print(f\"Error processing segment {i+1}: {e}\")\n"
   ]
  },
  {
   "cell_type": "code",
   "execution_count": 25,
   "id": "1fb0e52d-be66-4a9a-81ef-a79a0ae72cb2",
   "metadata": {},
   "outputs": [
    {
     "name": "stdout",
     "output_type": "stream",
     "text": [
      "Created segment: /Users/xiangyukong/repos/audio-temp/downloads/_vecpj_CRLw-215.12-225.24.mp3\n",
      "Created segment: /Users/xiangyukong/repos/audio-temp/downloads/_vecpj_CRLw-225.24-236.48.mp3\n",
      "Created segment: /Users/xiangyukong/repos/audio-temp/downloads/_vecpj_CRLw-236.48-244.2.mp3\n",
      "Created segment: /Users/xiangyukong/repos/audio-temp/downloads/_vecpj_CRLw-244.2-251.8.mp3\n",
      "Created segment: /Users/xiangyukong/repos/audio-temp/downloads/_vecpj_CRLw-251.8-257.0.mp3\n"
     ]
    }
   ],
   "source": [
    "\n",
    "# timestamps = [\n",
    "#     (215.12, 225.24),\n",
    "#     (225.24, 236.48),\n",
    "#     (236.48, 244.20),\n",
    "#     (244.20, 251.80),\n",
    "#     (251.80, 257.00)\n",
    "# ]\n",
    "\n",
    "# timestamps = [\n",
    "#     (215.12, 226.84),\n",
    "#     (226.84, 236.48),\n",
    "#     (236.48, 244.20),\n",
    "#     (244.20, 251.80),\n",
    "#     (251.80, 257.00)\n",
    "# ]\n",
    "\n",
    "# timestamps = [\n",
    "#     (215.12, 220.12),\n",
    "#     (220.12, 226.84),\n",
    "#     (226.84, 233.36),\n",
    "#     (233.36, 236.48),\n",
    "#     (236.48, 244.20),\n",
    "#     (244.20, 247.76),\n",
    "#     (247.76, 251.80),\n",
    "#     (251.80, 257.00)\n",
    "# ]\n",
    "\n",
    "# timestamps = [\n",
    "#     (215.12, 217.28),\n",
    "#     (217.28, 225.24),\n",
    "#     (225.24, 231.64),\n",
    "#     (231.64, 236.48),\n",
    "#     (236.48, 244.20),\n",
    "#     (244.20, 251.80),\n",
    "#     (251.80, 257.00)\n",
    "# ]\n",
    "\n",
    "timestamps = [\n",
    "    (215.12, 225.24),\n",
    "    (225.24, 236.48),\n",
    "    (236.48, 244.20),\n",
    "    (244.20, 251.80),\n",
    "    (251.80, 257.00)\n",
    "]\n",
    "\n",
    "split_audio(\"./downloads/_vecpj_CRLw.mp3\", timestamps)"
   ]
  },
  {
   "cell_type": "code",
   "execution_count": 12,
   "id": "ec6b6ee7-71aa-44cf-9398-49663837068b",
   "metadata": {
    "scrolled": true
   },
   "outputs": [
    {
     "name": "stdout",
     "output_type": "stream",
     "text": [
      "Created segment: /Users/xiangyukong/repos/audio-temp/downloads/IgiO_GmNbKU-539-545.mp3\n",
      "Created segment: /Users/xiangyukong/repos/audio-temp/downloads/IgiO_GmNbKU-545-554.mp3\n",
      "Created segment: /Users/xiangyukong/repos/audio-temp/downloads/IgiO_GmNbKU-554-561.mp3\n",
      "Created segment: /Users/xiangyukong/repos/audio-temp/downloads/IgiO_GmNbKU-561-568.mp3\n",
      "Created segment: /Users/xiangyukong/repos/audio-temp/downloads/IgiO_GmNbKU-568-578.mp3\n",
      "Created segment: /Users/xiangyukong/repos/audio-temp/downloads/IgiO_GmNbKU-578-585.mp3\n",
      "Created segment: /Users/xiangyukong/repos/audio-temp/downloads/IgiO_GmNbKU-585-589.mp3\n"
     ]
    }
   ],
   "source": [
    "timestamps = [\n",
    "    (539, 545),\n",
    "    (545, 554),\n",
    "    (554, 561),\n",
    "    (561, 568),\n",
    "    (568, 578),\n",
    "    (578, 585),\n",
    "    (585, 589)\n",
    "]\n",
    "split_audio(\"./downloads/IgiO_GmNbKU.mp3\", timestamps)"
   ]
  },
  {
   "cell_type": "code",
   "execution_count": 15,
   "id": "881d98a3-fd70-4b0d-a98d-92bd70e8c995",
   "metadata": {},
   "outputs": [
    {
     "name": "stdout",
     "output_type": "stream",
     "text": [
      "Created segment: /Users/xiangyukong/repos/audio-temp/downloads/NtJ1wPCUxCI-64-71.mp3\n",
      "Created segment: /Users/xiangyukong/repos/audio-temp/downloads/NtJ1wPCUxCI-71-77.mp3\n",
      "Created segment: /Users/xiangyukong/repos/audio-temp/downloads/NtJ1wPCUxCI-77-87.mp3\n",
      "Created segment: /Users/xiangyukong/repos/audio-temp/downloads/NtJ1wPCUxCI-87-94.mp3\n",
      "Created segment: /Users/xiangyukong/repos/audio-temp/downloads/NtJ1wPCUxCI-94-105.mp3\n",
      "Created segment: /Users/xiangyukong/repos/audio-temp/downloads/NtJ1wPCUxCI-105-113.mp3\n",
      "Created segment: /Users/xiangyukong/repos/audio-temp/downloads/NtJ1wPCUxCI-113-117.mp3\n",
      "Created segment: /Users/xiangyukong/repos/audio-temp/downloads/NtJ1wPCUxCI-117-128.mp3\n",
      "Created segment: /Users/xiangyukong/repos/audio-temp/downloads/NtJ1wPCUxCI-128-136.mp3\n",
      "Created segment: /Users/xiangyukong/repos/audio-temp/downloads/NtJ1wPCUxCI-136-142.mp3\n"
     ]
    }
   ],
   "source": [
    "timestamps = [\n",
    "    (64, 71),\n",
    "    (71, 77),\n",
    "    (77, 87),\n",
    "    (87, 94),\n",
    "    (94, 105),\n",
    "    (105, 113),\n",
    "    (113, 117),\n",
    "    (117, 128),\n",
    "    (128, 136),\n",
    "    (136, 142)\n",
    "]\n",
    "split_audio(\"./downloads/NtJ1wPCUxCI.mp3\", timestamps)"
   ]
  },
  {
   "cell_type": "code",
   "execution_count": 13,
   "id": "0045a863-4f59-4a56-923c-61fa3ec773cd",
   "metadata": {},
   "outputs": [],
   "source": [
    "# get the transcript\n",
    "video_id = \"NtJ1wPCUxCI\"\n",
    "from youtube_transcript_api import YouTubeTranscriptApi\n",
    "transcript = YouTubeTranscriptApi.get_transcript(video_id)"
   ]
  },
  {
   "cell_type": "code",
   "execution_count": 18,
   "id": "39173673-b88f-435f-833b-96b04865c246",
   "metadata": {},
   "outputs": [],
   "source": [
    "video_id = \"_vecpj_CRLw\"\n",
    "from youtube_transcript_api import YouTubeTranscriptApi\n",
    "transcript = YouTubeTranscriptApi.get_transcript(video_id)"
   ]
  },
  {
   "cell_type": "code",
   "execution_count": 19,
   "id": "741a711f-f394-4f74-aed7-521b1e570ca0",
   "metadata": {},
   "outputs": [
    {
     "name": "stdout",
     "output_type": "stream",
     "text": [
      "[{'text': 'all right so when it comes to money', 'start': 0.04, 'duration': 3.72}, {'text': 'there are a lot of things that feel like', 'start': 1.439, 'duration': 4.281}, {'text': \"they're working against us we have an\", 'start': 3.76, 'duration': 3.519}, {'text': 'exponential rise in the cost of living', 'start': 5.72, 'duration': 3.999}, {'text': \"we're in a current job crisis gas is\", 'start': 7.279, 'duration': 3.881}, {'text': 'more expensive groceries are more', 'start': 9.719, 'duration': 3.361}, {'text': \"expensive and it feels like we're doing\", 'start': 11.16, 'duration': 4.08}, {'text': 'more work for Less no doubt that there', 'start': 13.08, 'duration': 3.959}, {'text': 'are a lot of external pressures that', 'start': 15.24, 'duration': 3.64}, {'text': 'just make things feel Tighter and like', 'start': 17.039, 'duration': 3.521}, {'text': 'we have less and less money in our', 'start': 18.88, 'duration': 3.639}, {'text': \"pocket that's definitely not lost on me\", 'start': 20.56, 'duration': 3.76}, {'text': 'but there are also other factors here at', 'start': 22.519, 'duration': 3.561}, {'text': 'play and some of those can just simply', 'start': 24.32, 'duration': 4.08}, {'text': 'be bad money habits and bad money', 'start': 26.08, 'duration': 4.519}, {'text': 'mindsets I can definitely tell you that', 'start': 28.4, 'duration': 3.76}, {'text': \"I've been there I used to be a\", 'start': 30.599, 'duration': 4.161}, {'text': 'full-blown shopaholic and in over', 'start': 32.16, 'duration': 4.88}, {'text': '$120,000 of student loan debt that I', 'start': 34.76, 'duration': 3.84}, {'text': 'could never get out from underneath of', 'start': 37.04, 'duration': 3.96}, {'text': 'because of my bad money habits and my', 'start': 38.6, 'duration': 4.56}, {'text': 'terrible relationship with money today', 'start': 41.0, 'duration': 3.52}, {'text': \"I'm very lucky to say that I am\", 'start': 43.16, 'duration': 3.48}, {'text': 'completely debt-free and I can attribute', 'start': 44.52, 'duration': 5.039}, {'text': 'that success to yes increasing my income', 'start': 46.64, 'duration': 4.759}, {'text': 'but I also had to really overhaul a lot', 'start': 49.559, 'duration': 3.881}, {'text': \"of these bad money habits so in today's\", 'start': 51.399, 'duration': 3.32}, {'text': 'video I want to share with you all the', 'start': 53.44, 'duration': 3.2}, {'text': 'bad money habits that were keeping me', 'start': 54.719, 'duration': 3.601}, {'text': \"broke and it's only when I started to\", 'start': 56.64, 'duration': 3.32}, {'text': 'address some of these habits and', 'start': 58.32, 'duration': 3.399}, {'text': 'recognize what I was doing that I was', 'start': 59.96, 'duration': 3.919}, {'text': 'able to make a change and start taking', 'start': 61.719, 'duration': 4.521}, {'text': 'authority over what I could control', 'start': 63.879, 'duration': 4.681}, {'text': 'about my spending and about my money so', 'start': 66.24, 'duration': 4.4}, {'text': \"let's get into it now my mic is on so\", 'start': 68.56, 'duration': 4.32}, {'text': 'hopefully the audio sounds a lot better', 'start': 70.64, 'duration': 4.72}, {'text': 'number one was spending to save look I', 'start': 72.88, 'duration': 4.279}, {'text': 'love a good deal I love getting things', 'start': 75.36, 'duration': 4.079}, {'text': 'on sale I want you to save money but if', 'start': 77.159, 'duration': 4.121}, {'text': \"you're buying things just because\", 'start': 79.439, 'duration': 4.281}, {'text': \"they're on sale or buying more of things\", 'start': 81.28, 'duration': 4.879}, {'text': \"to get a deal then you're not really\", 'start': 83.72, 'duration': 4.32}, {'text': 'saving any money this is really how', 'start': 86.159, 'duration': 3.881}, {'text': 'marketing advertising and money', 'start': 88.04, 'duration': 4.359}, {'text': 'psychology gets the better of us we love', 'start': 90.04, 'duration': 4.48}, {'text': 'the idea of a win we love the idea of a', 'start': 92.399, 'duration': 4.561}, {'text': 'bargain and a sale is a version of that', 'start': 94.52, 'duration': 3.84}, {'text': 'and I really had to come to terms with', 'start': 96.96, 'duration': 3.24}, {'text': 'the fact that just because something was', 'start': 98.36, 'duration': 4.079}, {'text': \"on sale didn't mean that I needed to buy\", 'start': 100.2, 'duration': 4.0}, {'text': \"it since learning this it's really\", 'start': 102.439, 'duration': 3.96}, {'text': 'helped me resist buying things just', 'start': 104.2, 'duration': 4.0}, {'text': \"because they're on sale and it's helped\", 'start': 106.399, 'duration': 3.561}, {'text': 'me resist the temptation of things like', 'start': 108.2, 'duration': 4.08}, {'text': 'Amazon Prime day the Sephora sale', 'start': 109.96, 'duration': 4.88}, {'text': 'aritzia clientele sale all these things', 'start': 112.28, 'duration': 4.32}, {'text': 'are meant to generate fomo but if I', 'start': 114.84, 'duration': 3.04}, {'text': \"didn't have my eye on that thing ahead\", 'start': 116.6, 'duration': 3.439}, {'text': \"of time as in if I wasn't willing to to\", 'start': 117.88, 'duration': 4.08}, {'text': 'pay full price for it then just because', 'start': 120.039, 'duration': 3.641}, {'text': \"it's on sale it doesn't mean I'm saving\", 'start': 121.96, 'duration': 3.479}, {'text': \"any money there's that old saying where\", 'start': 123.68, 'duration': 3.759}, {'text': \"you save 100% of the money you don't\", 'start': 125.439, 'duration': 3.721}, {'text': 'spend and when it comes to sales I find', 'start': 127.439, 'duration': 3.52}, {'text': 'that to be true and this brings me into', 'start': 129.16, 'duration': 3.92}, {'text': 'bad habit number two and that is not', 'start': 130.959, 'duration': 4.56}, {'text': 'being able to pass up the deal this is', 'start': 133.08, 'duration': 4.0}, {'text': 'something that I think is slightly', 'start': 135.519, 'duration': 3.041}, {'text': 'different than buying things just', 'start': 137.08, 'duration': 3.32}, {'text': \"because they're on sale I think it's a\", 'start': 138.56, 'duration': 3.48}, {'text': \"version of that but I'm also talking\", 'start': 140.4, 'duration': 3.28}, {'text': 'about things like thrifting oftentimes', 'start': 142.04, 'duration': 3.44}, {'text': \"when you're shopping secondhand garage\", 'start': 143.68, 'duration': 4.639}, {'text': 'sailing antiquing anything like that', 'start': 145.48, 'duration': 5.839}, {'text': \"it's so easy to buy more and spend more\", 'start': 148.319, 'duration': 5.121}, {'text': 'because the items are so cheap and', 'start': 151.319, 'duration': 3.801}, {'text': 'because the items are so cheap the', 'start': 153.44, 'duration': 3.879}, {'text': 'stakes are kind of low like if you end', 'start': 155.12, 'duration': 3.72}, {'text': 'up buying something at the thrift for', 'start': 157.319, 'duration': 3.28}, {'text': \"five bucks and it doesn't end up really\", 'start': 158.84, 'duration': 3.679}, {'text': 'working out for you then depending on', 'start': 160.599, 'duration': 4.601}, {'text': 'your financial situation that $5 may not', 'start': 162.519, 'duration': 4.481}, {'text': 'really matter to you so much and you', 'start': 165.2, 'duration': 3.72}, {'text': 'kind of Let It Go but that adds up not', 'start': 167.0, 'duration': 3.959}, {'text': 'only with just your wallet but with your', 'start': 168.92, 'duration': 4.16}, {'text': 'physical space too the more we buy the', 'start': 170.959, 'duration': 4.121}, {'text': 'more clutter we bring into our lives and', 'start': 173.08, 'duration': 3.68}, {'text': 'I find it is so easy to do that', 'start': 175.08, 'duration': 3.4}, {'text': 'especially with secondhand shopping and', 'start': 176.76, 'duration': 4.16}, {'text': \"thrifting the reality is it's not really\", 'start': 178.48, 'duration': 4.92}, {'text': \"the stuff that you want it's the deal\", 'start': 180.92, 'duration': 3.599}, {'text': \"and that's where that thrill and\", 'start': 183.4, 'duration': 3.199}, {'text': 'dopamine hit often comes from so I think', 'start': 184.519, 'duration': 3.481}, {'text': \"it's really important especially when\", 'start': 186.599, 'duration': 3.441}, {'text': \"you're shopping at places that have kind\", 'start': 188.0, 'duration': 4.36}, {'text': 'of a low barrier to entry and you find', 'start': 190.04, 'duration': 4.68}, {'text': 'yourself in a scenario that is full of', 'start': 192.36, 'duration': 4.76}, {'text': 'opportunities and cute gems and one of a', 'start': 194.72, 'duration': 4.92}, {'text': \"kinds and can't pass up deals then I\", 'start': 197.12, 'duration': 3.679}, {'text': \"think it's really important to stay\", 'start': 199.64, 'duration': 2.879}, {'text': \"focused in on exactly what you're\", 'start': 200.799, 'duration': 3.841}, {'text': 'looking for what you need to buy or what', 'start': 202.519, 'duration': 4.161}, {'text': 'you want to buy have something in mind', 'start': 204.64, 'duration': 4.319}, {'text': 'ahead of time keep a shopping list and', 'start': 206.68, 'duration': 4.04}, {'text': 'stick to that and that way it becomes a', 'start': 208.959, 'duration': 3.84}, {'text': 'whole lot less clutter in your space and', 'start': 210.72, 'duration': 4.4}, {'text': 'more money that you keep in your pocket', 'start': 212.799, 'duration': 4.481}, {'text': 'number three is lifestyle creep if', 'start': 215.12, 'duration': 3.56}, {'text': \"you've never heard of Lifestyle creep\", 'start': 217.28, 'duration': 2.84}, {'text': 'before it essentially explains the', 'start': 218.68, 'duration': 3.6}, {'text': 'phenomenon of feeling like you need to', 'start': 220.12, 'duration': 5.119}, {'text': 'spend more money as you earn more money', 'start': 222.28, 'duration': 4.56}, {'text': 'so when you increase your lifestyle', 'start': 225.239, 'duration': 4.321}, {'text': 'along with your income sometimes it can', 'start': 226.84, 'duration': 4.8}, {'text': \"end up feeling like you're still in the\", 'start': 229.56, 'duration': 3.8}, {'text': 'exact same place financially because', 'start': 231.64, 'duration': 2.76}, {'text': \"even though you're making more money\", 'start': 233.36, 'duration': 3.12}, {'text': \"you're still spending it on lifestyle I\", 'start': 234.4, 'duration': 3.72}, {'text': \"think it's very common to get your first\", 'start': 236.48, 'duration': 3.64}, {'text': 'big paycheck and then feel like you need', 'start': 238.12, 'duration': 4.16}, {'text': 'to go buy a brand new car or upgrade', 'start': 240.12, 'duration': 4.08}, {'text': 'your apartment right away you start', 'start': 242.28, 'duration': 3.76}, {'text': 'going on a bunch of fancy vacations a', 'start': 244.2, 'duration': 3.56}, {'text': 'couple of times a year and it kind of', 'start': 246.04, 'duration': 3.72}, {'text': 'happens all at once at the expense of', 'start': 247.76, 'duration': 4.039}, {'text': 'things like investing saving or paying', 'start': 249.76, 'duration': 3.839}, {'text': \"off debt so I'm not saying that you\", 'start': 251.799, 'duration': 3.36}, {'text': \"shouldn't buy nice things and that you\", 'start': 253.599, 'duration': 3.401}, {'text': \"shouldn't upgrade your lifestyle but I\", 'start': 255.159, 'duration': 3.36}, {'text': \"think you'll feel more secure and\", 'start': 257.0, 'duration': 3.479}, {'text': 'happier about your financial situation', 'start': 258.519, 'duration': 4.24}, {'text': 'if you do it slowly and mindfully over', 'start': 260.479, 'duration': 4.201}, {'text': 'time because lifestyle creep really gets', 'start': 262.759, 'duration': 3.961}, {'text': 'you when you increase your standard of', 'start': 264.68, 'duration': 3.64}, {'text': 'living and things that were once', 'start': 266.72, 'duration': 3.52}, {'text': 'considered luxuries now become', 'start': 268.32, 'duration': 3.92}, {'text': 'necessities and it becomes very', 'start': 270.24, 'duration': 3.799}, {'text': 'difficult to downgrade your lifestyle', 'start': 272.24, 'duration': 3.56}, {'text': 'from there so just make sure that you', 'start': 274.039, 'duration': 4.201}, {'text': 'can afford it have a plan in place and', 'start': 275.8, 'duration': 4.56}, {'text': 'avoid sacrificing your other financial', 'start': 278.24, 'duration': 4.239}, {'text': 'goals and your financial Security in the', 'start': 280.36, 'duration': 4.6}, {'text': 'name of upgrading your lifestyle number', 'start': 282.479, 'duration': 5.921}, {'text': 'four is fantasy self spending I was a', 'start': 284.96, 'duration': 6.0}, {'text': 'victim of my fantasy self for absolute', 'start': 288.4, 'duration': 4.72}, {'text': 'years and it is still sometimes', 'start': 290.96, 'duration': 4.84}, {'text': 'difficult to avoid spending in the name', 'start': 293.12, 'duration': 4.84}, {'text': 'of that fantasy self I talk a lot about', 'start': 295.8, 'duration': 3.679}, {'text': 'the fantasy self on my channel and if', 'start': 297.96, 'duration': 2.64}, {'text': \"you you never heard of it it's\", 'start': 299.479, 'duration': 3.921}, {'text': 'essentially buying for the person that', 'start': 300.6, 'duration': 5.2}, {'text': 'you wish to become or that you wish to', 'start': 303.4, 'duration': 4.0}, {'text': 'be instead of the person that you', 'start': 305.8, 'duration': 3.959}, {'text': 'actually are so for example your fantasy', 'start': 307.4, 'duration': 5.2}, {'text': 'self might be some fabulous Cosmopolitan', 'start': 309.759, 'duration': 5.16}, {'text': 'New York City Carrie Bradshaw type where', 'start': 312.6, 'duration': 4.48}, {'text': 'you know you run around in 4in stilettos', 'start': 314.919, 'duration': 4.28}, {'text': 'and drink cosmopolitans all day long but', 'start': 317.08, 'duration': 3.88}, {'text': 'in your reality you walk to work every', 'start': 319.199, 'duration': 3.961}, {'text': 'single day in the past I found myself', 'start': 320.96, 'duration': 5.079}, {'text': 'shopping primarily for my fantasy self', 'start': 323.16, 'duration': 4.36}, {'text': \"but over time that's when I really\", 'start': 326.039, 'duration': 3.72}, {'text': 'started to notice that none of my', 'start': 327.52, 'duration': 4.76}, {'text': 'clothes reflected my personal style I', 'start': 329.759, 'duration': 4.641}, {'text': 'probably actually wore about 5% of my', 'start': 332.28, 'duration': 3.96}, {'text': 'wardrobe and you know that whole feeling', 'start': 334.4, 'duration': 3.6}, {'text': 'of a closet full of clothes and nothing', 'start': 336.24, 'duration': 4.12}, {'text': 'to wear well it might be because a lot', 'start': 338.0, 'duration': 4.68}, {'text': 'of your closet is currently representing', 'start': 340.36, 'duration': 4.48}, {'text': 'your fantasy self rather than what you', 'start': 342.68, 'duration': 4.959}, {'text': 'need in your actual everyday life now I', 'start': 344.84, 'duration': 4.479}, {'text': \"don't think spending in the name of your\", 'start': 347.639, 'duration': 4.481}, {'text': 'fantasy self is all bad for example I', 'start': 349.319, 'duration': 5.0}, {'text': 'think when you have a goal to reach or', 'start': 352.12, 'duration': 3.76}, {'text': 'certain transformation that you want to', 'start': 354.319, 'duration': 3.521}, {'text': 'make then you do have to kind of begin', 'start': 355.88, 'duration': 4.319}, {'text': 'with the end in mind for example if you', 'start': 357.84, 'duration': 4.56}, {'text': 'want to get healthier or be able to run', 'start': 360.199, 'duration': 4.641}, {'text': 'a 5k then that might necessitate', 'start': 362.4, 'duration': 4.799}, {'text': 'spending on a gym membership or buying a', 'start': 364.84, 'duration': 4.56}, {'text': 'pair of running shoes for example but', 'start': 367.199, 'duration': 4.28}, {'text': 'the key with fantasy selfs spending is', 'start': 369.4, 'duration': 4.239}, {'text': 'that you have to do something to make', 'start': 371.479, 'duration': 4.641}, {'text': 'that fantasy a reality the spending gets', 'start': 373.639, 'duration': 4.56}, {'text': \"really out of alignment when you're\", 'start': 376.12, 'duration': 3.88}, {'text': 'buying in the name of the fantasy self', 'start': 378.199, 'duration': 3.28}, {'text': \"but you're doing nothing to actually\", 'start': 380.0, 'duration': 3.44}, {'text': \"make it a reality so I do think it's\", 'start': 381.479, 'duration': 3.84}, {'text': 'important to have an image of the person', 'start': 383.44, 'duration': 3.4}, {'text': \"you want to be it's kind of like the\", 'start': 385.319, 'duration': 3.521}, {'text': 'dress for the job you want type of thing', 'start': 386.84, 'duration': 3.52}, {'text': \"but often times we don't implement the\", 'start': 388.84, 'duration': 3.72}, {'text': 'steps to make that fantasy a reality and', 'start': 390.36, 'duration': 3.76}, {'text': \"that's when that money just ends up\", 'start': 392.56, 'duration': 3.28}, {'text': \"being wasted so I don't think the\", 'start': 394.12, 'duration': 4.079}, {'text': 'fantasy self is necessarily all bad it', 'start': 395.84, 'duration': 4.68}, {'text': 'just needs to act as an avatar that is', 'start': 398.199, 'duration': 4.161}, {'text': 'in alignment with the life that you want', 'start': 400.52, 'duration': 4.16}, {'text': 'to live and I think it needs to align', 'start': 402.36, 'duration': 4.2}, {'text': 'with the life you actually live if all', 'start': 404.68, 'duration': 3.639}, {'text': 'you do is buy for your fantasy self but', 'start': 406.56, 'duration': 3.68}, {'text': 'do nothing to actually make it real for', 'start': 408.319, 'duration': 4.121}, {'text': \"you then all you're doing is making\", 'start': 410.24, 'duration': 4.079}, {'text': \"yourself more broke and you're just\", 'start': 412.44, 'duration': 4.199}, {'text': 'dreaming at that point number five was', 'start': 414.319, 'duration': 5.88}, {'text': 'using my credit card as a crutch credit', 'start': 416.639, 'duration': 6.201}, {'text': 'credit crutching is that a thing credit', 'start': 420.199, 'duration': 5.921}, {'text': 'crutch you know credit crutching credit', 'start': 422.84, 'duration': 5.039}, {'text': 'card debt is something that almost', 'start': 426.12, 'duration': 4.56}, {'text': 'everybody has a recent survey showed', 'start': 427.879, 'duration': 5.681}, {'text': 'that 61% of Americans are in credit card', 'start': 430.68, 'duration': 5.28}, {'text': 'debt that is three out of five people', 'start': 433.56, 'duration': 3.96}, {'text': 'where they owe an average of', 'start': 435.96, 'duration': 4.56}, {'text': '$5,800 in addition to that 23% said that', 'start': 437.52, 'duration': 5.359}, {'text': 'they go into a deeper credit card debt', 'start': 440.52, 'duration': 4.84}, {'text': 'every month and 14% of people said they', 'start': 442.879, 'duration': 4.961}, {'text': 'missed a payment in 2023 Reliance on', 'start': 445.36, 'duration': 5.239}, {'text': 'credit cards can be an income problem', 'start': 447.84, 'duration': 4.68}, {'text': 'but for a lot of other people myself', 'start': 450.599, 'duration': 4.641}, {'text': \"included it's simply a tracking problem\", 'start': 452.52, 'duration': 5.079}, {'text': 'as in I never kept track of my spending', 'start': 455.24, 'duration': 4.12}, {'text': 'and I would often use my credit card as', 'start': 457.599, 'duration': 5.16}, {'text': 'a crutch because I figured I kind of', 'start': 459.36, 'duration': 5.239}, {'text': 'thought that you know by the time I get', 'start': 462.759, 'duration': 3.84}, {'text': \"paid next I'll be able to pay it off but\", 'start': 464.599, 'duration': 3.681}, {'text': 'the problem with that was I would rack', 'start': 466.599, 'duration': 3.56}, {'text': 'up such a credit card bill every time', 'start': 468.28, 'duration': 3.759}, {'text': 'because I would just use it so freely', 'start': 470.159, 'duration': 3.6}, {'text': 'and now we have things like one click', 'start': 472.039, 'duration': 3.961}, {'text': 'Buy Apple pay you can scan and buy', 'start': 473.759, 'duration': 4.081}, {'text': \"things with your watch now so it's\", 'start': 476.0, 'duration': 4.039}, {'text': 'essentially frictionless to use your', 'start': 477.84, 'duration': 3.639}, {'text': 'credit card and it almost feels like', 'start': 480.039, 'duration': 3.201}, {'text': 'fake money at the time the problem with', 'start': 481.479, 'duration': 4.241}, {'text': 'that buy now pay later type of habit is', 'start': 483.24, 'duration': 4.359}, {'text': \"that if you're not keeping track of how\", 'start': 485.72, 'duration': 3.759}, {'text': \"much you're buying now then what you\", 'start': 487.599, 'duration': 4.16}, {'text': 'have to pay later can run away from you', 'start': 489.479, 'duration': 4.521}, {'text': 'really fast yes you might be able to pay', 'start': 491.759, 'duration': 3.84}, {'text': 'off your full credit card bill and then', 'start': 494.0, 'duration': 3.44}, {'text': \"you're stuck relying on credit again\", 'start': 495.599, 'duration': 4.0}, {'text': 'until your next payday and on and on it', 'start': 497.44, 'duration': 3.759}, {'text': 'goes one of the things that helped me', 'start': 499.599, 'duration': 3.56}, {'text': 'get out of the cycle was learning how to', 'start': 501.199, 'duration': 4.12}, {'text': 'budget and getting an exact knowledge of', 'start': 503.159, 'duration': 4.16}, {'text': 'how much money I made every month and', 'start': 505.319, 'duration': 3.761}, {'text': 'how much it cost for me to live this', 'start': 507.319, 'duration': 3.361}, {'text': \"does requires some tracking you're\", 'start': 509.08, 'duration': 3.6}, {'text': 'spending and it also requires saying no', 'start': 510.68, 'duration': 3.719}, {'text': \"to yourself sometimes and I'm not\", 'start': 512.68, 'duration': 2.799}, {'text': \"talking about if you're not making\", 'start': 514.399, 'duration': 2.481}, {'text': 'enough money to cover your basic', 'start': 515.479, 'duration': 2.8}, {'text': \"expenses I'm talking about more\", 'start': 516.88, 'duration': 3.079}, {'text': 'behaviors where you find yourself just', 'start': 518.279, 'duration': 3.481}, {'text': 'willy-nilly putting everything on your', 'start': 519.959, 'duration': 3.721}, {'text': 'credit card without keeping track of', 'start': 521.76, 'duration': 3.96}, {'text': 'that number it adds up quick and you can', 'start': 523.68, 'duration': 4.159}, {'text': 'get stuck in that cycle really easily so', 'start': 525.72, 'duration': 3.92}, {'text': 'doing things like saying no to yourself', 'start': 527.839, 'duration': 3.721}, {'text': 'and paying surgical attention to your', 'start': 529.64, 'duration': 4.24}, {'text': 'spending is really important A good rule', 'start': 531.56, 'duration': 4.24}, {'text': \"of thumb for me is if I can't pay for it\", 'start': 533.88, 'duration': 4.0}, {'text': \"in full today then I can't afford it\", 'start': 535.8, 'duration': 4.12}, {'text': \"it's as simple as that number six was\", 'start': 537.88, 'duration': 5.36}, {'text': 'not prioritizing investing this was bad', 'start': 539.92, 'duration': 5.359}, {'text': 'for many many years for me because as a', 'start': 543.24, 'duration': 3.96}, {'text': 'former shopaholic I would tell myself', 'start': 545.279, 'duration': 3.601}, {'text': \"things like I don't have enough money to\", 'start': 547.2, 'duration': 3.199}, {'text': \"invest or I'm not smart enough to\", 'start': 548.88, 'duration': 4.04}, {'text': 'prioritize investing or investing is for', 'start': 550.399, 'duration': 4.601}, {'text': 'money people and I would feel a lot of', 'start': 552.92, 'duration': 4.68}, {'text': 'resistance even putting down like $100 a', 'start': 555.0, 'duration': 5.519}, {'text': 'month into my investment accounts but', 'start': 557.6, 'duration': 4.32}, {'text': 'then I would turn around and have', 'start': 560.519, 'duration': 4.401}, {'text': 'absolutely zero problems spending $500', 'start': 561.92, 'duration': 5.32}, {'text': 'on a pair of shoes that I by the way', 'start': 564.92, 'duration': 4.039}, {'text': 'never even ended up wearing so I think', 'start': 567.24, 'duration': 3.24}, {'text': 'when it comes to investing in any', 'start': 568.959, 'duration': 3.201}, {'text': 'resistance you might feel like you have', 'start': 570.48, 'duration': 3.88}, {'text': \"to it it's really important to address\", 'start': 572.16, 'duration': 4.0}, {'text': 'some of the limiting beliefs and stories', 'start': 574.36, 'duration': 3.719}, {'text': \"that we're telling ourselves about it\", 'start': 576.16, 'duration': 4.48}, {'text': 'even putting $5 a week into Investments', 'start': 578.079, 'duration': 4.121}, {'text': \"at least it's going to get you started\", 'start': 580.64, 'duration': 3.08}, {'text': \"and it's better than nothing but it's\", 'start': 582.2, 'duration': 2.879}, {'text': 'going to change your mindset and help', 'start': 583.72, 'duration': 4.119}, {'text': 'you start to see how you can invest in', 'start': 585.079, 'duration': 4.961}, {'text': 'your future self instead of focusing on', 'start': 587.839, 'duration': 4.161}, {'text': 'instant gratification all the time but a', 'start': 590.04, 'duration': 4.08}, {'text': \"lot of us myself included really don't\", 'start': 592.0, 'duration': 3.76}, {'text': 'have our priority straight when it comes', 'start': 594.12, 'duration': 3.68}, {'text': 'to taking care of your future self and I', 'start': 595.76, 'duration': 3.319}, {'text': \"think it's because it is really\", 'start': 597.8, 'duration': 2.84}, {'text': 'difficult to picture yourself in the', 'start': 599.079, 'duration': 4.041}, {'text': 'future but by the time you actually get', 'start': 600.64, 'duration': 4.4}, {'text': \"there you'll be happy that you did it\", 'start': 603.12, 'duration': 4.92}, {'text': 'number seven is not paying yourself', 'start': 605.04, 'duration': 5.6}, {'text': 'first every time I got paid I was often', 'start': 608.04, 'duration': 5.72}, {'text': 'in the habit of paying myself last for', 'start': 610.64, 'duration': 5.28}, {'text': 'many years every time I got paid this is', 'start': 613.76, 'duration': 3.759}, {'text': 'where the money would go first it would', 'start': 615.92, 'duration': 4.76}, {'text': 'go to living and expenses so things like', 'start': 617.519, 'duration': 6.721}, {'text': 'my rent bills gas my cell phone bill', 'start': 620.68, 'duration': 5.56}, {'text': 'then it would go to credit card and', 'start': 624.24, 'duration': 3.92}, {'text': 'student loan payments and then whatever', 'start': 626.24, 'duration': 4.0}, {'text': \"it was left over I'd say say well I paid\", 'start': 628.16, 'duration': 4.28}, {'text': \"all my bills I'm adulting I worked\", 'start': 630.24, 'duration': 3.56}, {'text': \"really hard now I'm going to treat\", 'start': 632.44, 'duration': 3.079}, {'text': 'myself oh and then anything at the end', 'start': 633.8, 'duration': 3.68}, {'text': \"of that I guess I'll try to save but\", 'start': 635.519, 'duration': 3.88}, {'text': 'news flash none of that money ever ended', 'start': 637.48, 'duration': 3.4}, {'text': 'up getting saved and forget about', 'start': 639.399, 'duration': 3.041}, {'text': \"investing and it's because I was in the\", 'start': 640.88, 'duration': 4.0}, {'text': 'habit of paying myself last this', 'start': 642.44, 'duration': 4.44}, {'text': 'nowadays I actually automate so every', 'start': 644.88, 'duration': 4.44}, {'text': 'time I get paid I have my bank set up so', 'start': 646.88, 'duration': 4.199}, {'text': 'that a certain percentage of my paycheck', 'start': 649.32, 'duration': 3.68}, {'text': 'immediately goes into savings and', 'start': 651.079, 'duration': 3.801}, {'text': 'Investments without me even having to', 'start': 653.0, 'duration': 3.399}, {'text': 'think about it and this is almost like a', 'start': 654.88, 'duration': 3.84}, {'text': 'little hack because when that money is', 'start': 656.399, 'duration': 4.44}, {'text': 'automatically withdrawn in the same way', 'start': 658.72, 'duration': 4.2}, {'text': \"as if you put something on autopay it's\", 'start': 660.839, 'duration': 3.56}, {'text': 'like you never even had that money to', 'start': 662.92, 'duration': 3.2}, {'text': \"begin with so your brain just doesn't\", 'start': 664.399, 'duration': 4.24}, {'text': 'count it as money that you actually have', 'start': 666.12, 'duration': 4.159}, {'text': \"but in the background it's secretly\", 'start': 668.639, 'duration': 4.041}, {'text': \"being invested it's secretly being saved\", 'start': 670.279, 'duration': 4.12}, {'text': 'and I make sure that this money goes', 'start': 672.68, 'duration': 3.8}, {'text': 'completely into a separate bank because', 'start': 674.399, 'duration': 4.12}, {'text': \"that way I'm less likely to pull from it\", 'start': 676.48, 'duration': 3.76}, {'text': 'but that simple switch in automation is', 'start': 678.519, 'duration': 3.12}, {'text': 'a really great way that you can start', 'start': 680.24, 'duration': 3.839}, {'text': 'saving and investing on autopilot and it', 'start': 681.639, 'duration': 4.041}, {'text': 'just gets your mind used to having a', 'start': 684.079, 'duration': 3.161}, {'text': 'certain amount of money to play with', 'start': 685.68, 'duration': 3.2}, {'text': 'because this is now automated for me', 'start': 687.24, 'duration': 3.12}, {'text': \"it's kind of like a said it and forget\", 'start': 688.88, 'duration': 3.72}, {'text': \"it and it's a way that you can actually\", 'start': 690.36, 'duration': 4.2}, {'text': 'be consistent with your saving and', 'start': 692.6, 'duration': 4.28}, {'text': \"investing because it's on autopilot and\", 'start': 694.56, 'duration': 4.2}, {'text': \"remember it's not how much you put in\", 'start': 696.88, 'duration': 3.44}, {'text': \"it's the fact that you're actually doing\", 'start': 698.76, 'duration': 4.079}, {'text': 'it so focus on that next was always', 'start': 700.32, 'duration': 5.24}, {'text': 'prioritizing instant gratification look', 'start': 702.839, 'duration': 4.56}, {'text': \"I'm all about living in the now but if\", 'start': 705.56, 'duration': 4.6}, {'text': 'all you do is focus on living in the now', 'start': 707.399, 'duration': 4.841}, {'text': 'then by the time your future self gets', 'start': 710.16, 'duration': 3.6}, {'text': \"to their present they're going to be\", 'start': 712.24, 'duration': 3.48}, {'text': 'pretty pissed off at you and you know', 'start': 713.76, 'duration': 3.96}, {'text': \"it's hard not to give into instant\", 'start': 715.72, 'duration': 3.96}, {'text': 'gratification and the way the world', 'start': 717.72, 'duration': 4.32}, {'text': 'works today in social media and the way', 'start': 719.68, 'duration': 4.159}, {'text': \"we pay for things and how we're\", 'start': 722.04, 'duration': 3.56}, {'text': 'advertised to things even in how things', 'start': 723.839, 'duration': 3.841}, {'text': \"are delivered to us it's all based on\", 'start': 725.6, 'duration': 3.84}, {'text': \"instant gratification we don't want to\", 'start': 727.68, 'duration': 3.24}, {'text': 'wait for anything anymore and more', 'start': 729.44, 'duration': 3.48}, {'text': 'importantly we do not like to tell', 'start': 730.92, 'duration': 4.599}, {'text': 'ourselves no but as the old saying goes', 'start': 732.92, 'duration': 4.52}, {'text': 'good things come to those who wait and', 'start': 735.519, 'duration': 3.641}, {'text': 'in my experience it saved me a whole lot', 'start': 737.44, 'duration': 3.6}, {'text': 'of money and through that waiting not', 'start': 739.16, 'duration': 3.84}, {'text': 'only has it saved me a ton of money but', 'start': 741.04, 'duration': 4.64}, {'text': 'it also taught me so much about myself', 'start': 743.0, 'duration': 4.16}, {'text': 'the problem with instant gratification', 'start': 745.68, 'duration': 4.0}, {'text': 'too is that it just focuses on your', 'start': 747.16, 'duration': 4.799}, {'text': 'immediate impulse right now they often', 'start': 749.68, 'duration': 5.279}, {'text': 'say to wait before you respond wait', 'start': 751.959, 'duration': 5.0}, {'text': 'before you say yes and I also think we', 'start': 754.959, 'duration': 4.041}, {'text': 'need to wait before we decide to buy', 'start': 756.959, 'duration': 3.841}, {'text': 'something when it comes to shopping this', 'start': 759.0, 'duration': 4.0}, {'text': 'is where I like to utilize a wish list', 'start': 760.8, 'duration': 3.76}, {'text': 'because when I just give myself that', 'start': 763.0, 'duration': 3.36}, {'text': 'little bit of breathing room even if', 'start': 764.56, 'duration': 4.079}, {'text': \"it's like 15 minutes I can't tell you\", 'start': 766.36, 'duration': 4.24}, {'text': 'how many things that I told myself I', 'start': 768.639, 'duration': 4.601}, {'text': 'absolutely needed to have right now that', 'start': 770.6, 'duration': 4.88}, {'text': 'I completely forgot about just by giving', 'start': 773.24, 'duration': 4.08}, {'text': 'myself that little bit of space the next', 'start': 775.48, 'duration': 3.24}, {'text': 'bad money habit that was keeping me', 'start': 777.32, 'duration': 4.319}, {'text': 'broke for quite a long time was saying', 'start': 778.72, 'duration': 5.359}, {'text': 'yes to everything because you know you', 'start': 781.639, 'duration': 4.2}, {'text': 'want to hang you want to fit in you want', 'start': 784.079, 'duration': 3.56}, {'text': 'to have fun with your friends but I', 'start': 785.839, 'duration': 4.56}, {'text': 'would constantly say yes to dinners', 'start': 787.639, 'duration': 5.281}, {'text': \"drinks movies trips I didn't want to be\", 'start': 790.399, 'duration': 4.081}, {'text': \"a Debbie Downer I didn't want to be a\", 'start': 792.92, 'duration': 4.2}, {'text': \"bummer I didn't want to be perceived as\", 'start': 794.48, 'duration': 4.919}, {'text': 'not being able to hang or even just', 'start': 797.12, 'duration': 4.04}, {'text': 'being perceived as being broke because I', 'start': 799.399, 'duration': 3.24}, {'text': \"couldn't afford a lot of these things\", 'start': 801.16, 'duration': 3.6}, {'text': 'that my friends wanted to do if I was', 'start': 802.639, 'duration': 3.961}, {'text': 'being honest with myself and I think', 'start': 804.76, 'duration': 3.319}, {'text': 'that does create a lot of pressure but', 'start': 806.6, 'duration': 3.32}, {'text': 'the problem is is when you say yes to', 'start': 808.079, 'duration': 3.921}, {'text': \"everything then you're inevitably saying\", 'start': 809.92, 'duration': 4.64}, {'text': 'no to something else and that could be', 'start': 812.0, 'duration': 4.44}, {'text': \"the thing that's actually more important\", 'start': 814.56, 'duration': 4.04}, {'text': 'to you so if you have a financial goal', 'start': 816.44, 'duration': 3.959}, {'text': \"especially if it's like paying off debt\", 'start': 818.6, 'duration': 3.72}, {'text': 'or saving really aggressively for', 'start': 820.399, 'duration': 3.88}, {'text': 'something or just trying to implement', 'start': 822.32, 'duration': 3.56}, {'text': \"Financial boundaries then I think it's\", 'start': 824.279, 'duration': 3.321}, {'text': 'really important to learn to say no to', 'start': 825.88, 'duration': 3.079}, {'text': 'some of these things that come across', 'start': 827.6, 'duration': 2.96}, {'text': 'your table and peer pressure is', 'start': 828.959, 'duration': 3.841}, {'text': \"definitely a thing but if you're honest\", 'start': 830.56, 'duration': 4.24}, {'text': 'with your friends about certain goals', 'start': 832.8, 'duration': 4.159}, {'text': 'that you may have financially then the', 'start': 834.8, 'duration': 4.0}, {'text': \"real ones will understand and there's\", 'start': 836.959, 'duration': 3.361}, {'text': 'tons of free things that you can do to', 'start': 838.8, 'duration': 3.32}, {'text': 'hang out with a friend anyways a good', 'start': 840.32, 'duration': 3.759}, {'text': \"time doesn't need to cost a lot of money\", 'start': 842.12, 'duration': 5.56}, {'text': \"and finally it's when Centric thinking\", 'start': 844.079, 'duration': 5.721}, {'text': 'you know like when I get that raise then', 'start': 847.68, 'duration': 4.519}, {'text': \"I'll start budgeting or when I make 100K\", 'start': 849.8, 'duration': 3.8}, {'text': \"a year then I won't have to worry about\", 'start': 852.199, 'duration': 3.88}, {'text': 'money anymore and a lot of that is true', 'start': 853.6, 'duration': 4.96}, {'text': 'I think that money does buy happiness or', 'start': 856.079, 'duration': 4.801}, {'text': 'at least a sense of safety and stability', 'start': 858.56, 'duration': 5.12}, {'text': 'income matters but so does behavior and', 'start': 860.88, 'duration': 5.079}, {'text': 'I was a good example as any of that I', 'start': 863.68, 'duration': 4.76}, {'text': 'made good money but I was broke and I', 'start': 865.959, 'duration': 3.88}, {'text': \"also think it's important to strive to\", 'start': 868.44, 'duration': 3.839}, {'text': 'make more money if you can to find ways', 'start': 869.839, 'duration': 4.56}, {'text': 'to increase your income but the problem', 'start': 872.279, 'duration': 3.68}, {'text': 'with delaying getting started with', 'start': 874.399, 'duration': 3.44}, {'text': 'really important things like saving', 'start': 875.959, 'duration': 4.601}, {'text': 'investing or a simple feeling of control', 'start': 877.839, 'duration': 4.8}, {'text': 'over your finances waiting until you', 'start': 880.56, 'duration': 3.719}, {'text': 'make a certain amount of money to do', 'start': 882.639, 'duration': 4.44}, {'text': 'that not only will you be unprepared', 'start': 884.279, 'duration': 4.881}, {'text': 'when you actually get there but I think', 'start': 887.079, 'duration': 4.0}, {'text': 'it really takes away your power over', 'start': 889.16, 'duration': 4.039}, {'text': 'your money right now because things like', 'start': 891.079, 'duration': 4.56}, {'text': 'budgeting saving investing and tracking', 'start': 893.199, 'duration': 4.2}, {'text': 'your spending can really be for', 'start': 895.639, 'duration': 3.2}, {'text': \"everybody and it's going to give you a\", 'start': 897.399, 'duration': 3.921}, {'text': 'sense sense of control and autonomy over', 'start': 898.839, 'duration': 4.161}, {'text': \"your money that I really don't think you\", 'start': 901.32, 'duration': 3.68}, {'text': 'need to wait for more money can', 'start': 903.0, 'duration': 3.88}, {'text': 'certainly solve a whole lot of problems', 'start': 905.0, 'duration': 3.839}, {'text': \"but it's your relationship to it and how\", 'start': 906.88, 'duration': 3.92}, {'text': \"you spend it that matters too so don't\", 'start': 908.839, 'duration': 3.761}, {'text': 'wait to get started so those are some of', 'start': 910.8, 'duration': 3.68}, {'text': 'the bad money habits that were keeping', 'start': 912.6, 'duration': 5.2}, {'text': 'me broke for a really long time and it', 'start': 914.48, 'duration': 5.4}, {'text': \"wasn't until I started to address some\", 'start': 917.8, 'duration': 4.44}, {'text': 'of these habits and some of these money', 'start': 919.88, 'duration': 5.079}, {'text': 'mindsets and just bad assumptions that I', 'start': 922.24, 'duration': 4.64}, {'text': 'had about myself that I was really able', 'start': 924.959, 'duration': 3.56}, {'text': 'to turn things around and change my', 'start': 926.88, 'duration': 3.759}, {'text': 'relationship with my money but also with', 'start': 928.519, 'duration': 4.32}, {'text': 'myself I think the nice thing about', 'start': 930.639, 'duration': 4.241}, {'text': 'coming to terms with a lot of these bad', 'start': 932.839, 'duration': 4.12}, {'text': \"habits is that you're just able to get\", 'start': 934.88, 'duration': 3.72}, {'text': 'really honest with yourself and really', 'start': 936.959, 'duration': 3.521}, {'text': 'start to see where you can make changes', 'start': 938.6, 'duration': 3.679}, {'text': 'in your life to see those positive', 'start': 940.48, 'duration': 3.76}, {'text': 'benefits over time let me know some bad', 'start': 942.279, 'duration': 3.8}, {'text': \"money habits that you've had in the past\", 'start': 944.24, 'duration': 3.44}, {'text': \"and how you Chang them and if you're\", 'start': 946.079, 'duration': 3.521}, {'text': 'working on some of that habit change now', 'start': 947.68, 'duration': 3.76}, {'text': 'share in the comments below what you did', 'start': 949.6, 'duration': 3.32}, {'text': \"and what's working for you I think it's\", 'start': 951.44, 'duration': 2.759}, {'text': 'a really great way that we can all stay', 'start': 952.92, 'duration': 3.0}, {'text': 'motivated thanks so much for watching', 'start': 954.199, 'duration': 3.76}, {'text': 'give this video a thumbs up if it helped', 'start': 955.92, 'duration': 3.719}, {'text': \"you in some way it's a great way you can\", 'start': 957.959, 'duration': 3.88}, {'text': 'help support my channel and help it grow', 'start': 959.639, 'duration': 3.921}, {'text': 'share it with a friend who needs it', 'start': 961.839, 'duration': 3.041}, {'text': \"subscribe if you're new and you want\", 'start': 963.56, 'duration': 3.0}, {'text': \"more videos like this and I'll see you\", 'start': 964.88, 'duration': 6.16}, {'text': 'next Sunday bye', 'start': 966.56, 'duration': 4.48}]\n"
     ]
    }
   ],
   "source": [
    "print(transcript)"
   ]
  },
  {
   "cell_type": "code",
   "execution_count": null,
   "id": "bc372f30-97c6-4d4d-984f-f436fc8e9436",
   "metadata": {},
   "outputs": [],
   "source": [
    "from openai import OpenAI\n",
    "from typing import List, Dict\n",
    "import json\n",
    "\n",
    "def process_transcript(segments: List[Dict]) -> str:\n",
    "    \"\"\"Process transcript segments using OpenAI API.\"\"\"\n",
    "    \n",
    "    client = OpenAI()\n",
    "    \n",
    "    # Combine segments into single text while preserving timing\n",
    "    processed_text = \"\"\n",
    "    current_time = 0\n",
    "    \n",
    "    for segment in segments:\n",
    "        if '(Laughter)' not in segment['text']:\n",
    "            # Clean text and add timing info\n",
    "            clean_text = segment['text'].replace('\\n', ' ')\n",
    "            time_info = f\"[{segment['start']:.1f}s] \"\n",
    "            processed_text += time_info + clean_text + \" \"\n",
    "    \n",
    "    system_prompt = \"\"\"\n",
    "    You are a professional translator and subtitle editor. Convert the provided text (with timestamps) into a JSON array of bilingual subtitles.\n",
    "    Requirements:\n",
    "    1. Use the provided timestamps [Xs] to create segments of 5-20 seconds\n",
    "    2. Keep the context and meaning complete in each segment\n",
    "    3. Provide natural and accurate Chinese translations\n",
    "    4. Maintain conversational flow and speaker's style\n",
    "    \n",
    "    Output format:\n",
    "    {\n",
    "      \"subtitles\": [\n",
    "        {\n",
    "          \"timestamp\": \"MM:SS\",\n",
    "          \"en\": \"English text here\",\n",
    "          \"cn\": \"Chinese translation here\"\n",
    "        }\n",
    "      ]\n",
    "    }\n",
    "    \n",
    "    Guidelines:\n",
    "    - Break at natural pauses and complete thoughts\n",
    "    - Keep subtitle length comfortable for reading\n",
    "    - Translate for clarity and cultural context\n",
    "    - Keep translations concise but accurate\n",
    "    - Use the provided timestamps to guide segmentation\n",
    "    \"\"\"\n",
    "\n",
    "    try:\n",
    "        completion = client.chat.completions.create(\n",
    "            model=\"gpt-4o-mini\",\n",
    "            messages=[\n",
    "                {\"role\": \"system\", \"content\": system_prompt},\n",
    "                {\"role\": \"user\", \"content\": processed_text}\n",
    "            ],\n",
    "            response_format={\"type\": \"json_object\"},\n",
    "            temperature=0.3\n",
    "        )\n",
    "        \n",
    "        return completion.choices[0].message.content\n",
    "\n",
    "    except Exception as e:\n",
    "        print(f\"Error processing transcript: {e}\")\n",
    "        return None"
   ]
  },
  {
   "cell_type": "code",
   "execution_count": null,
   "id": "f19365ac-668e-418d-92bb-a8fb7b744e44",
   "metadata": {},
   "outputs": [],
   "source": [
    "result = process_transcript(segments)\n",
    "if result:\n",
    "    print(json.dumps(json.loads(result), indent=2, ensure_ascii=False))"
   ]
  }
 ],
 "metadata": {
  "kernelspec": {
   "display_name": "Python 3 (ipykernel)",
   "language": "python",
   "name": "python3"
  },
  "language_info": {
   "codemirror_mode": {
    "name": "ipython",
    "version": 3
   },
   "file_extension": ".py",
   "mimetype": "text/x-python",
   "name": "python",
   "nbconvert_exporter": "python",
   "pygments_lexer": "ipython3",
   "version": "3.12.7"
  }
 },
 "nbformat": 4,
 "nbformat_minor": 5
}
