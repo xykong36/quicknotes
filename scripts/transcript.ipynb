{
 "cells": [
  {
   "cell_type": "code",
   "execution_count": 2,
   "id": "e4dc0094-8299-458e-bc8c-501a720fbdab",
   "metadata": {},
   "outputs": [],
   "source": [
    "# your_custom_script.py\n",
    "\n",
    "from youtube_transcript_api import YouTubeTranscriptApi\n",
    "from youtube_transcript_api.formatters import JSONFormatter\n",
    "\n",
    "video_ids = [\n",
    "    \"0UR8G81E_Wk\",\n",
    "    \"20efEGXwE5I\", \n",
    "    \"25sUO13GIe8\",\n",
    "    \"2q1ZfMfkNjg\",\n",
    "    \"33bZIOLX4do\",\n",
    "    \"35E6CJ084ug\"\n",
    "]\n",
    "\n",
    "proxy_list = {\n",
    "    # 替换为你的 Just My Socks 信息\n",
    "    'http': 'socks5://127.0.0.1:1080',\n",
    "    # 替换为你的 Just My Socks 信息\n",
    "    'https': 'socks5://127.0.0.1:1080'\n",
    "}\n",
    "\n",
    "# Must be a single transcript.\n",
    "transcript_list = YouTubeTranscriptApi.get_transcripts(video_ids[0:3], languages=['en'], proxies=proxy_list)\n",
    "\n",
    "formatter = JSONFormatter()\n",
    "\n",
    "# .format_transcript(transcript) turns the transcript into a JSON string.\n",
    "json_formatted = formatter.format_transcript(transcript_list)\n",
    "\n",
    "# Now we can write it out to a file.\n",
    "with open('vids-transcripts.json', 'w', encoding='utf-8') as json_file:\n",
    "    json_file.write(json_formatted)\n",
    "\n",
    "# Now should have a new JSON file that you can easily read back into Python."
   ]
  },
  {
   "cell_type": "code",
   "execution_count": null,
   "id": "9cb33ebe-4124-47fa-af0b-c81f1aef8cd9",
   "metadata": {},
   "outputs": [],
   "source": []
  }
 ],
 "metadata": {
  "kernelspec": {
   "display_name": "Python 3 (ipykernel)",
   "language": "python",
   "name": "python3"
  },
  "language_info": {
   "codemirror_mode": {
    "name": "ipython",
    "version": 3
   },
   "file_extension": ".py",
   "mimetype": "text/x-python",
   "name": "python",
   "nbconvert_exporter": "python",
   "pygments_lexer": "ipython3",
   "version": "3.12.7"
  }
 },
 "nbformat": 4,
 "nbformat_minor": 5
}
